{
 "cells": [
  {
   "cell_type": "code",
   "execution_count": 1,
   "id": "7eb871b0-e851-4d3f-8398-39a115f7d553",
   "metadata": {},
   "outputs": [
    {
     "data": {
      "application/vnd.jupyter.widget-view+json": {
       "model_id": "a919dda4e5d54661a7badc85c514daf7",
       "version_major": 2,
       "version_minor": 0
      },
      "text/plain": [
       "Panel(children=(HBox(children=(VBox(children=(RadioButtons(layout=Layout(width='100px'), options=('Local file'…"
      ]
     },
     "execution_count": 1,
     "metadata": {},
     "output_type": "execute_result"
    }
   ],
   "source": [
    "from nwbwidgets.panel import Panel\n",
    "\n",
    "Panel()\n"
   ]
  },
  {
   "cell_type": "code",
   "execution_count": null,
   "id": "f2b7b8c6-a342-47fa-88ed-7bc76381c367",
   "metadata": {},
   "outputs": [],
   "source": []
  }
 ],
 "metadata": {
  "kernelspec": {
   "display_name": "Python 3 (ipykernel)",
   "language": "python",
   "name": "python3"
  },
  "language_info": {
   "codemirror_mode": {
    "name": "ipython",
    "version": 3
   },
   "file_extension": ".py",
   "mimetype": "text/x-python",
   "name": "python",
   "nbconvert_exporter": "python",
   "pygments_lexer": "ipython3",
   "version": "3.11.11"
  }
 },
 "nbformat": 4,
 "nbformat_minor": 5
}
